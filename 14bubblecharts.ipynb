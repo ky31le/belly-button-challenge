{
 "cells": [
  {
   "cell_type": "code",
   "execution_count": 1,
   "id": "eef42513",
   "metadata": {
    "scrolled": true
   },
   "outputs": [
    {
     "data": {
      "application/vnd.jupyter.widget-view+json": {
       "model_id": "a16508227e074ccf8880bd7f5a7e379f",
       "version_major": 2,
       "version_minor": 0
      },
      "text/plain": [
       "interactive(children=(Dropdown(description='Select Sample:', options=(('940', '940'), ('941', '941'), ('943', …"
      ]
     },
     "metadata": {},
     "output_type": "display_data"
    }
   ],
   "source": [
    "import json\n",
    "import pandas as pd\n",
    "import numpy as np\n",
    "import plotly.express as px\n",
    "from ipywidgets import interact, widgets\n",
    "\n",
    "# Read the data\n",
    "with open('samples.json') as f:\n",
    "    data = json.load(f)\n",
    "\n",
    "# Extract samples data\n",
    "samples = data['samples']\n",
    "\n",
    "# Extract metadata (optional)\n",
    "metadata = data['metadata']\n",
    "\n",
    "# Extract names (for dropdown menu)\n",
    "names = data['names']\n",
    "\n",
    "def create_bar_chart(sample_id):\n",
    "    # Get the selected sample data\n",
    "    selected_sample = next(sample for sample in samples if sample['id'] == sample_id)\n",
    "    \n",
    "    # Create a DataFrame for the selected sample\n",
    "    df = pd.DataFrame({\n",
    "        'OTU IDs': selected_sample['otu_ids'],\n",
    "        'Values': selected_sample['sample_values'],\n",
    "        'Labels': selected_sample['otu_labels']\n",
    "    })\n",
    "    \n",
    "    # Sort DataFrame by Values in descending order\n",
    "    df = df.sort_values(by='Values', ascending=False)\n",
    "    \n",
    "    # Select top 10 OTUs\n",
    "    top_10 = df.head(10)\n",
    "    \n",
    "    # Create the bar chart using Plotly\n",
    "    fig = px.bar(\n",
    "        top_10,\n",
    "        x='Values',\n",
    "        y='OTU IDs',\n",
    "        text='Labels',\n",
    "        orientation='h',\n",
    "        title=f'Top 10 OTUs for Sample {sample_id}',\n",
    "        labels={'OTU IDs': 'OTU IDs'},\n",
    "        hover_name='Labels'\n",
    "    )\n",
    "    \n",
    "    # Show the chart\n",
    "    fig.show()\n",
    "\n",
    "# Create a dropdown menu\n",
    "dropdown = widgets.Dropdown(\n",
    "    options=[(name, name) for name in names],\n",
    "    description='Select Sample:'\n",
    ")\n",
    "\n",
    "# Define a function to update the chart based on the selected sample\n",
    "def update_chart(sample_id):\n",
    "    create_bar_chart(sample_id)\n",
    "\n",
    "# Connect the dropdown and the update function\n",
    "interact(update_chart, sample_id=dropdown);\n"
   ]
  },
  {
   "cell_type": "code",
   "execution_count": 2,
   "id": "914e34be",
   "metadata": {},
   "outputs": [
    {
     "data": {
      "application/vnd.jupyter.widget-view+json": {
       "model_id": "7cf8f47ea085453aad3b2c8d42124f17",
       "version_major": 2,
       "version_minor": 0
      },
      "text/plain": [
       "interactive(children=(Dropdown(description='Select Sample:', options=(('940', '940'), ('941', '941'), ('943', …"
      ]
     },
     "metadata": {},
     "output_type": "display_data"
    }
   ],
   "source": [
    "import json\n",
    "import pandas as pd\n",
    "import numpy as np\n",
    "import plotly.express as px\n",
    "from ipywidgets import interact, widgets\n",
    "\n",
    "# Read the data\n",
    "with open('samples.json') as f:\n",
    "    data = json.load(f)\n",
    "\n",
    "# Extract samples data\n",
    "samples = data['samples']\n",
    "\n",
    "# Extract metadata (optional)\n",
    "metadata = data['metadata']\n",
    "\n",
    "# Extract names (for dropdown menu)\n",
    "names = data['names']\n",
    "\n",
    "# Create a function to generate a bubble chart\n",
    "def create_bubble_chart(sample_id):\n",
    "    # Get the selected sample data\n",
    "    selected_sample = next(sample for sample in samples if sample['id'] == sample_id)\n",
    "    \n",
    "    # Create a DataFrame for the selected sample\n",
    "    df = pd.DataFrame({\n",
    "        'OTU IDs': selected_sample['otu_ids'],\n",
    "        'Values': selected_sample['sample_values'],\n",
    "        'Labels': selected_sample['otu_labels']\n",
    "    })\n",
    "    \n",
    "    # Create the bubble chart using Plotly\n",
    "    fig = px.scatter(\n",
    "        df,\n",
    "        x='OTU IDs',\n",
    "        y='Values',\n",
    "        size='Values',\n",
    "        color='OTU IDs',\n",
    "        text='Labels',\n",
    "        title=f'Bubble Chart for Sample {sample_id}',\n",
    "        labels={'OTU IDs': 'OTU IDs', 'Values': 'Sample Values'},\n",
    "        hover_name='Labels'\n",
    "    )\n",
    "    \n",
    "    # Show the chart\n",
    "    fig.show()\n",
    "\n",
    "# Create a dropdown menu\n",
    "dropdown = widgets.Dropdown(\n",
    "    options=[(name, name) for name in names],\n",
    "    description='Select Sample:'\n",
    ")\n",
    "\n",
    "# Define a function to update the chart based on the selected sample\n",
    "def update_chart(sample_id):\n",
    "    create_bubble_chart(sample_id)\n",
    "\n",
    "# Connect the dropdown and the update function\n",
    "interact(update_chart, sample_id=dropdown);\n"
   ]
  },
  {
   "cell_type": "code",
   "execution_count": 3,
   "id": "05c06f91",
   "metadata": {},
   "outputs": [
    {
     "data": {
      "application/vnd.jupyter.widget-view+json": {
       "model_id": "8d099456c84e47aeac1e921895486a0a",
       "version_major": 2,
       "version_minor": 0
      },
      "text/plain": [
       "interactive(children=(Dropdown(description='Select Sample:', options=(('940', '940'), ('941', '941'), ('943', …"
      ]
     },
     "metadata": {},
     "output_type": "display_data"
    }
   ],
   "source": [
    "import json\n",
    "import pandas as pd\n",
    "import numpy as np\n",
    "import plotly.express as px\n",
    "from ipywidgets import interact, widgets\n",
    "from IPython.display import display, HTML\n",
    "\n",
    "# Read the data\n",
    "with open('samples.json') as f:\n",
    "    data = json.load(f)\n",
    "\n",
    "# Extract samples data\n",
    "samples = data['samples']\n",
    "\n",
    "# Extract metadata\n",
    "metadata = data['metadata']\n",
    "\n",
    "# Extract names (for dropdown menu)\n",
    "names = data['names']\n",
    "\n",
    "# Create a function to generate a bubble chart\n",
    "def create_bubble_chart(sample_id):\n",
    "    # Get the selected sample data\n",
    "    selected_sample = next(sample for sample in samples if sample['id'] == sample_id)\n",
    "    \n",
    "    # Create a DataFrame for the selected sample\n",
    "    df = pd.DataFrame({\n",
    "        'OTU IDs': selected_sample['otu_ids'],\n",
    "        'Values': selected_sample['sample_values'],\n",
    "        'Labels': selected_sample['otu_labels']\n",
    "    })\n",
    "    \n",
    "    # Create the bubble chart using Plotly\n",
    "    fig = px.scatter(\n",
    "        df,\n",
    "        x='OTU IDs',\n",
    "        y='Values',\n",
    "        size='Values',\n",
    "        color='OTU IDs',\n",
    "        text='Labels',\n",
    "        title=f'Bubble Chart for Sample {sample_id}',\n",
    "        labels={'OTU IDs': 'OTU IDs', 'Values': 'Sample Values'},\n",
    "        hover_name='Labels'\n",
    "    )\n",
    "    \n",
    "    # Show the chart\n",
    "    fig.show()\n",
    "\n",
    "# Create a dropdown menu\n",
    "dropdown = widgets.Dropdown(\n",
    "    options=[(name, name) for name in names],\n",
    "    description='Select Sample:'\n",
    ")\n",
    "\n",
    "# Define a function to update the chart based on the selected sample\n",
    "def update_chart(sample_id):\n",
    "    create_bubble_chart(sample_id)\n",
    "    # Display metadata\n",
    "    selected_metadata = next(md for md in metadata if md['id'] == int(sample_id))\n",
    "    metadata_html = '<br>'.join(f'<b>{key}:</b> {value}' for key, value in selected_metadata.items())\n",
    "    display(HTML(f'<h3>Sample Metadata:</h3>{metadata_html}'))\n",
    "\n",
    "# Connect the dropdown and the update function\n",
    "interact(update_chart, sample_id=dropdown);\n"
   ]
  },
  {
   "cell_type": "code",
   "execution_count": null,
   "id": "45635b58",
   "metadata": {},
   "outputs": [],
   "source": []
  }
 ],
 "metadata": {
  "kernelspec": {
   "display_name": "Python 3 (ipykernel)",
   "language": "python",
   "name": "python3"
  },
  "language_info": {
   "codemirror_mode": {
    "name": "ipython",
    "version": 3
   },
   "file_extension": ".py",
   "mimetype": "text/x-python",
   "name": "python",
   "nbconvert_exporter": "python",
   "pygments_lexer": "ipython3",
   "version": "3.10.9"
  }
 },
 "nbformat": 4,
 "nbformat_minor": 5
}
